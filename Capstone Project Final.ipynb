{
    "cells": [
        {
            "cell_type": "markdown",
            "metadata": {
                "collapsed": true
            },
            "source": "# Introduction/Business Problem"
        },
        {
            "attachments": {},
            "cell_type": "markdown",
            "metadata": {},
            "source": "King County is a beautiful and romantic county in the United States, even though there is a lot of rain. With the increasing of tech job opportunities in Seattle, more and more people are considering about moving to this county. The population was about 2,233,163 in the 2018 census estimate. According to Zillow, the median home value in King County is $626,665. King County home values have declined -2.1% over the past year and Zillow also predicts they will rise 1.6% within the next year. \n\nSo, if you just got a job offer with a considerable salary, you are probably thinking about moving to Seattle or King county. Before you accept this offer, you might want to know the average house price in each cities of King county and try to explore some interesting venues in this county to help you make this important decision. \n"
        },
        {
            "cell_type": "code",
            "execution_count": null,
            "metadata": {},
            "outputs": [],
            "source": "# The code was removed by Watson Studio for sharing."
        },
        {
            "cell_type": "markdown",
            "metadata": {},
            "source": "# Data"
        },
        {
            "attachments": {},
            "cell_type": "markdown",
            "metadata": {},
            "source": "To approach this topic, we will have following data: \n\n1. coordinates in each cities of King county to locate the position on the map for further analysis. \n\n2. king county Average house values(csv file) by cities.\n\n3. Foursquare API can help explore various kinds of venues around places.  \n"
        }
    ],
    "metadata": {
        "kernelspec": {
            "display_name": "Python 3.6",
            "language": "python",
            "name": "python3"
        },
        "language_info": {
            "codemirror_mode": {
                "name": "ipython",
                "version": 3
            },
            "file_extension": ".py",
            "mimetype": "text/x-python",
            "name": "python",
            "nbconvert_exporter": "python",
            "pygments_lexer": "ipython3",
            "version": "3.6.8"
        }
    },
    "nbformat": 4,
    "nbformat_minor": 1
}