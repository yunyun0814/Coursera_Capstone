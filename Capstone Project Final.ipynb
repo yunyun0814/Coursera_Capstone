{
    "cells": [
        {
            "cell_type": "markdown",
            "metadata": {
                "collapsed": true
            },
            "source": "# Introduction/Business Problem"
        },
        {
            "cell_type": "markdown",
            "metadata": {},
            "source": "Assuming there is a Chinese businessman would like to open a Chinese dim sum restaurant in Toronto, so he would like to figure out the place/area where has the highest density of restaurants and most favorite area to customers/visitors with considerable tips. \nAlso, he might want to make a decision on decorating styles for this restaurant.  "
        },
        {
            "cell_type": "code",
            "execution_count": null,
            "metadata": {},
            "outputs": [],
            "source": "# The code was removed by Watson Studio for sharing."
        },
        {
            "cell_type": "markdown",
            "metadata": {},
            "source": "# Data\n"
        },
        {
            "attachments": {},
            "cell_type": "markdown",
            "metadata": {},
            "source": "The location data of Toronto is the fundamental of this project, which will help locate the position on the map.\n\nAge, gender tell customers\u2019 characteristics helping the client to make a better decision on decorates style and cuisine selection.\n\nCustomers like rating show customer\u2019s favorites and their preferences, which can be applied with further analysis.  \n\nTips rating reveals the consumption capacity of customers in this area.\n"
        }
    ],
    "metadata": {
        "kernelspec": {
            "display_name": "Python 3.6",
            "language": "python",
            "name": "python3"
        },
        "language_info": {
            "codemirror_mode": {
                "name": "ipython",
                "version": 3
            },
            "file_extension": ".py",
            "mimetype": "text/x-python",
            "name": "python",
            "nbconvert_exporter": "python",
            "pygments_lexer": "ipython3",
            "version": "3.6.8"
        }
    },
    "nbformat": 4,
    "nbformat_minor": 1
}